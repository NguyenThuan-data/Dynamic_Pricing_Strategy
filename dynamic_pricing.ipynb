{
 "cells": [
  {
   "cell_type": "markdown",
   "id": "d731b0cf",
   "metadata": {},
   "source": [
    "# Exploratory df Analysis"
   ]
  },
  {
   "cell_type": "code",
   "execution_count": 1,
   "id": "69d2b1f8",
   "metadata": {},
   "outputs": [
    {
     "name": "stdout",
     "output_type": "stream",
     "text": [
      "   Number_of_Riders  Number_of_Drivers Location_Category   \n",
      "0                90                 45             Urban  \\\n",
      "1                58                 39          Suburban   \n",
      "2                42                 31             Rural   \n",
      "3                89                 28             Rural   \n",
      "4                78                 22             Rural   \n",
      "\n",
      "  Customer_Loyalty_Status  Number_of_Past_Rides  Average_Ratings   \n",
      "0                  Silver                    13             4.47  \\\n",
      "1                  Silver                    72             4.06   \n",
      "2                  Silver                     0             3.99   \n",
      "3                 Regular                    67             4.31   \n",
      "4                 Regular                    74             3.77   \n",
      "\n",
      "  Time_of_Booking Vehicle_Type  Expected_Ride_Duration   \n",
      "0           Night      Premium                      90  \\\n",
      "1         Evening      Economy                      43   \n",
      "2       Afternoon      Premium                      76   \n",
      "3       Afternoon      Premium                     134   \n",
      "4       Afternoon      Economy                     149   \n",
      "\n",
      "   Historical_Cost_of_Ride  \n",
      "0               284.257273  \n",
      "1               173.874753  \n",
      "2               329.795469  \n",
      "3               470.201232  \n",
      "4               579.681422  \n"
     ]
    }
   ],
   "source": [
    "import pandas as pd\n",
    "import plotly.express as px\n",
    "import plotly.graph_objects as go\n",
    "\n",
    "df = pd.read_csv('./dataset/dynamic_pricing.csv')\n",
    "print(df.head())"
   ]
  },
  {
   "cell_type": "code",
   "execution_count": 2,
   "id": "64cdf40e",
   "metadata": {},
   "outputs": [
    {
     "name": "stdout",
     "output_type": "stream",
     "text": [
      "       Number_of_Riders  Number_of_Drivers  Number_of_Past_Rides   \n",
      "count       1000.000000        1000.000000           1000.000000  \\\n",
      "mean          60.372000          27.076000             50.031000   \n",
      "std           23.701506          19.068346             29.313774   \n",
      "min           20.000000           5.000000              0.000000   \n",
      "25%           40.000000          11.000000             25.000000   \n",
      "50%           60.000000          22.000000             51.000000   \n",
      "75%           81.000000          38.000000             75.000000   \n",
      "max          100.000000          89.000000            100.000000   \n",
      "\n",
      "       Average_Ratings  Expected_Ride_Duration  Historical_Cost_of_Ride  \n",
      "count      1000.000000              1000.00000              1000.000000  \n",
      "mean          4.257220                99.58800               372.502623  \n",
      "std           0.435781                49.16545               187.158756  \n",
      "min           3.500000                10.00000                25.993449  \n",
      "25%           3.870000                59.75000               221.365202  \n",
      "50%           4.270000               102.00000               362.019426  \n",
      "75%           4.632500               143.00000               510.497504  \n",
      "max           5.000000               180.00000               836.116419  \n"
     ]
    }
   ],
   "source": [
    "# descriptive statistics\n",
    "print(df.describe())"
   ]
  },
  {
   "cell_type": "code",
   "execution_count": 3,
   "id": "a4b3bd23",
   "metadata": {},
   "outputs": [
    {
     "data": {
      "application/vnd.plotly.v1+json": {
       "config": {
        "plotlyServerURL": "https://plot.ly"
       },
       "data": [
        {
         "hovertemplate": "Expected_Ride_Duration=%{x}<br>Historical_Cost_of_Ride=%{y}<extra></extra>",
         "legendgroup": "",
         "marker": {
          "color": "#636efa",
          "symbol": "circle"
         },
         "mode": "markers",
         "name": "",
         "orientation": "v",
         "showlegend": false,
         "type": "scatter",
         "x": {
          "bdata": "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",
          "dtype": "i2"
         },
         "xaxis": "x",
         "y": {
          "bdata": "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",
          "dtype": "f8"
         },
         "yaxis": "y"
        },
        {
         "hovertemplate": "<b>OLS trendline</b><br>Historical_Cost_of_Ride = 3.53091 * Expected_Ride_Duration + 20.8668<br>R<sup>2</sup>=0.860344<br><br>Expected_Ride_Duration=%{x}<br>Historical_Cost_of_Ride=%{y} <b>(trend)</b><extra></extra>",
         "legendgroup": "",
         "marker": {
          "color": "#636efa",
          "symbol": "circle"
         },
         "mode": "lines",
         "name": "",
         "showlegend": false,
         "type": "scatter",
         "x": {
          "bdata": "CgAKAAoACgAKAAoACgAKAAsACwALAAsACwALAAwADAAMAAwADAANAA0ADQANAA0ADQANAA4ADgAOAA8ADwAPAA8ADwAPAA8AEAAQABAAEAAQABAAEAAQABAAEQASABIAEgASABIAEgATABMAEwATABQAFAAUABQAFQAVABUAFQAWABYAFgAWABYAFgAXABcAFwAXABcAGAAYABgAGAAYABgAGAAZABkAGQAaABoAGgAaABoAGgAbABwAHAAcABwAHAAdAB0AHQAdAB0AHQAdAB0AHgAeAB4AHgAfAB8AHwAfAB8AHwAgACAAIAAgACAAIAAgACAAIAAgACEAIQAhACIAIgAiACMAIwAjACMAIwAkACQAJAAkACUAJQAlACUAJgAmACYAJgAmACYAJgAnACcAJwAoACgAKAAoACkAKQApACoAKgAqACoAKwArACsAKwArACwALAAsAC0ALQAtAC0ALQAtAC0ALQAtAC0ALQAtAC4ALgAuAC4ALgAvAC8ALwAvAC8ALwAwADAAMAAwADAAMAAwADEAMQAxADEAMQAyADIAMgAyADIAMgAzADMAMwAzADMANAA0ADQANAA0ADUANQA1ADUANQA1ADUANQA2ADcANwA3ADcAOAA4ADgAOAA4ADkAOQA5ADoAOgA6ADoAOwA8ADwAPAA8ADwAPAA8AD0APQA9AD0APQA9AD4APgA+AD4APwA/AD8AQABAAEAAQABAAEAAQQBBAEEAQQBBAEEAQgBCAEIAQgBCAEIAQgBDAEMAQwBDAEMARABEAEQARABEAEQARABFAEUARQBFAEUARQBFAEUARgBGAEYARgBGAEYARwBHAEcARwBHAEgASABIAEgASABIAEkASQBJAEkASQBKAEoASgBKAEoASgBLAEsASwBLAEsASwBMAEwATABMAEwATABMAE0ATQBNAE0ATQBNAE0ATgBOAE4ATgBPAE8ATwBPAFAAUABQAFAAUABQAFEAUQBRAFEAUQBSAFIAUwBTAFMAUwBTAFMAUwBTAFQAVABUAFUAVQBVAFUAVQBVAFUAVgBWAFYAVgBWAFYAVgBWAFcAVwBXAFcAVwBXAFcAVwBXAFgAWABZAFkAWQBZAFkAWQBZAFoAWgBaAFoAWgBaAFoAWwBbAFsAWwBcAFwAXABcAFwAXABdAF0AXQBdAF0AXgBeAF4AXgBeAF4AXgBfAF8AXwBfAF8AXwBgAGAAYABgAGAAYABgAGEAYQBhAGEAYQBhAGIAYgBiAGIAYgBiAGMAYwBjAGMAYwBjAGQAZABkAGQAZABkAGQAZABlAGUAZQBlAGUAZQBlAGYAZgBmAGYAZgBnAGcAZwBnAGcAZwBnAGcAaABpAGkAaQBpAGkAaQBpAGoAagBqAGoAagBqAGoAawBrAGsAawBrAGsAawBrAGwAbABsAGwAbQBtAG0AbQBtAG0AbQBtAG4AbgBuAG4AbgBuAG4AbgBuAG8AbwBvAG8AbwBvAG8AbwBvAHAAcABwAHAAcABwAHEAcQBxAHEAcQByAHIAcgByAHIAcgByAHMAcwBzAHMAcwBzAHMAcwBzAHQAdAB0AHQAdAB0AHUAdQB1AHUAdgB2AHYAdgB3AHcAeAB4AHkAeQB5AHkAeQB5AHkAeQB5AHoAegB6AHoAegB7AHsAewB7AHsAfAB8AHwAfAB9AH0AfQB9AH0AfQB9AH4AfgB+AH4AfgB+AH4AfgB/AH8AfwB/AH8AfwB/AH8AgACAAIAAgACAAIAAgACAAIEAgQCBAIEAgQCBAIEAgQCCAIIAggCCAIIAggCCAIIAggCCAIMAgwCDAIMAgwCEAIQAhACEAIQAhACEAIUAhQCFAIUAhgCGAIYAhgCGAIYAhgCGAIYAhwCHAIgAiACIAIkAiQCJAIoAigCKAIoAigCKAIsAiwCLAIsAiwCLAIsAjACMAIwAjACMAIwAjACMAIwAjQCNAI0AjQCNAI0AjQCNAI0AjgCOAI4AjgCOAI8AjwCPAI8AjwCPAJAAkACQAJAAkACQAJAAkACQAJEAkQCRAJEAkgCSAJIAkgCSAJIAkwCTAJMAkwCTAJMAkwCTAJMAkwCTAJMAlACUAJQAlACUAJQAlACVAJUAlQCVAJUAlQCWAJYAlgCWAJYAlgCWAJcAlwCXAJcAlwCXAJcAmACYAJgAmACYAJgAmACZAJkAmQCZAJkAmgCaAJoAmgCaAJoAmgCaAJoAmwCbAJsAmwCcAJwAnACcAJ0AnQCdAJ0AnQCdAJ0AnQCeAJ4AngCeAJ4AnwCfAJ8AnwCfAKAAoACgAKAAoACgAKEAoQChAKEAoQChAKEAogCiAKIAogCiAKIAogCiAKIAowCjAKMAowCjAKMApACkAKQApACkAKQApACkAKUApQClAKYApgCmAKYApgCmAKYApwCnAKcApwCnAKcApwCnAKcAqACoAKgAqACoAKgAqACoAKkAqQCpAKkAqQCpAKkAqQCqAKoAqgCqAKoAqgCrAKsAqwCrAKsAqwCsAKwArACsAKwArACsAKwArQCtAK0ArQCtAK0ArQCuAK4ArgCuAK4ArgCvAK8ArwCvAK8ArwCwALAAsACwALAAsACwALAAsQCxALEAsQCxALIAsgCyALIAswCzALMAswCzALQAtAC0ALQAtAC0ALQAtAA=",
          "dtype": "i2"
         },
         "xaxis": "x",
         "y": {
          "bdata": "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",
          "dtype": "f8"
         },
         "yaxis": "y"
        }
       ],
       "layout": {
        "legend": {
         "tracegroupgap": 0
        },
        "template": {
         "data": {
          "bar": [
           {
            "error_x": {
             "color": "#2a3f5f"
            },
            "error_y": {
             "color": "#2a3f5f"
            },
            "marker": {
             "line": {
              "color": "#E5ECF6",
              "width": 0.5
             },
             "pattern": {
              "fillmode": "overlay",
              "size": 10,
              "solidity": 0.2
             }
            },
            "type": "bar"
           }
          ],
          "barpolar": [
           {
            "marker": {
             "line": {
              "color": "#E5ECF6",
              "width": 0.5
             },
             "pattern": {
              "fillmode": "overlay",
              "size": 10,
              "solidity": 0.2
             }
            },
            "type": "barpolar"
           }
          ],
          "carpet": [
           {
            "aaxis": {
             "endlinecolor": "#2a3f5f",
             "gridcolor": "white",
             "linecolor": "white",
             "minorgridcolor": "white",
             "startlinecolor": "#2a3f5f"
            },
            "baxis": {
             "endlinecolor": "#2a3f5f",
             "gridcolor": "white",
             "linecolor": "white",
             "minorgridcolor": "white",
             "startlinecolor": "#2a3f5f"
            },
            "type": "carpet"
           }
          ],
          "choropleth": [
           {
            "colorbar": {
             "outlinewidth": 0,
             "ticks": ""
            },
            "type": "choropleth"
           }
          ],
          "contour": [
           {
            "colorbar": {
             "outlinewidth": 0,
             "ticks": ""
            },
            "colorscale": [
             [
              0,
              "#0d0887"
             ],
             [
              0.1111111111111111,
              "#46039f"
             ],
             [
              0.2222222222222222,
              "#7201a8"
             ],
             [
              0.3333333333333333,
              "#9c179e"
             ],
             [
              0.4444444444444444,
              "#bd3786"
             ],
             [
              0.5555555555555556,
              "#d8576b"
             ],
             [
              0.6666666666666666,
              "#ed7953"
             ],
             [
              0.7777777777777778,
              "#fb9f3a"
             ],
             [
              0.8888888888888888,
              "#fdca26"
             ],
             [
              1,
              "#f0f921"
             ]
            ],
            "type": "contour"
           }
          ],
          "contourcarpet": [
           {
            "colorbar": {
             "outlinewidth": 0,
             "ticks": ""
            },
            "type": "contourcarpet"
           }
          ],
          "heatmap": [
           {
            "colorbar": {
             "outlinewidth": 0,
             "ticks": ""
            },
            "colorscale": [
             [
              0,
              "#0d0887"
             ],
             [
              0.1111111111111111,
              "#46039f"
             ],
             [
              0.2222222222222222,
              "#7201a8"
             ],
             [
              0.3333333333333333,
              "#9c179e"
             ],
             [
              0.4444444444444444,
              "#bd3786"
             ],
             [
              0.5555555555555556,
              "#d8576b"
             ],
             [
              0.6666666666666666,
              "#ed7953"
             ],
             [
              0.7777777777777778,
              "#fb9f3a"
             ],
             [
              0.8888888888888888,
              "#fdca26"
             ],
             [
              1,
              "#f0f921"
             ]
            ],
            "type": "heatmap"
           }
          ],
          "histogram": [
           {
            "marker": {
             "pattern": {
              "fillmode": "overlay",
              "size": 10,
              "solidity": 0.2
             }
            },
            "type": "histogram"
           }
          ],
          "histogram2d": [
           {
            "colorbar": {
             "outlinewidth": 0,
             "ticks": ""
            },
            "colorscale": [
             [
              0,
              "#0d0887"
             ],
             [
              0.1111111111111111,
              "#46039f"
             ],
             [
              0.2222222222222222,
              "#7201a8"
             ],
             [
              0.3333333333333333,
              "#9c179e"
             ],
             [
              0.4444444444444444,
              "#bd3786"
             ],
             [
              0.5555555555555556,
              "#d8576b"
             ],
             [
              0.6666666666666666,
              "#ed7953"
             ],
             [
              0.7777777777777778,
              "#fb9f3a"
             ],
             [
              0.8888888888888888,
              "#fdca26"
             ],
             [
              1,
              "#f0f921"
             ]
            ],
            "type": "histogram2d"
           }
          ],
          "histogram2dcontour": [
           {
            "colorbar": {
             "outlinewidth": 0,
             "ticks": ""
            },
            "colorscale": [
             [
              0,
              "#0d0887"
             ],
             [
              0.1111111111111111,
              "#46039f"
             ],
             [
              0.2222222222222222,
              "#7201a8"
             ],
             [
              0.3333333333333333,
              "#9c179e"
             ],
             [
              0.4444444444444444,
              "#bd3786"
             ],
             [
              0.5555555555555556,
              "#d8576b"
             ],
             [
              0.6666666666666666,
              "#ed7953"
             ],
             [
              0.7777777777777778,
              "#fb9f3a"
             ],
             [
              0.8888888888888888,
              "#fdca26"
             ],
             [
              1,
              "#f0f921"
             ]
            ],
            "type": "histogram2dcontour"
           }
          ],
          "mesh3d": [
           {
            "colorbar": {
             "outlinewidth": 0,
             "ticks": ""
            },
            "type": "mesh3d"
           }
          ],
          "parcoords": [
           {
            "line": {
             "colorbar": {
              "outlinewidth": 0,
              "ticks": ""
             }
            },
            "type": "parcoords"
           }
          ],
          "pie": [
           {
            "automargin": true,
            "type": "pie"
           }
          ],
          "scatter": [
           {
            "fillpattern": {
             "fillmode": "overlay",
             "size": 10,
             "solidity": 0.2
            },
            "type": "scatter"
           }
          ],
          "scatter3d": [
           {
            "line": {
             "colorbar": {
              "outlinewidth": 0,
              "ticks": ""
             }
            },
            "marker": {
             "colorbar": {
              "outlinewidth": 0,
              "ticks": ""
             }
            },
            "type": "scatter3d"
           }
          ],
          "scattercarpet": [
           {
            "marker": {
             "colorbar": {
              "outlinewidth": 0,
              "ticks": ""
             }
            },
            "type": "scattercarpet"
           }
          ],
          "scattergeo": [
           {
            "marker": {
             "colorbar": {
              "outlinewidth": 0,
              "ticks": ""
             }
            },
            "type": "scattergeo"
           }
          ],
          "scattergl": [
           {
            "marker": {
             "colorbar": {
              "outlinewidth": 0,
              "ticks": ""
             }
            },
            "type": "scattergl"
           }
          ],
          "scattermap": [
           {
            "marker": {
             "colorbar": {
              "outlinewidth": 0,
              "ticks": ""
             }
            },
            "type": "scattermap"
           }
          ],
          "scattermapbox": [
           {
            "marker": {
             "colorbar": {
              "outlinewidth": 0,
              "ticks": ""
             }
            },
            "type": "scattermapbox"
           }
          ],
          "scatterpolar": [
           {
            "marker": {
             "colorbar": {
              "outlinewidth": 0,
              "ticks": ""
             }
            },
            "type": "scatterpolar"
           }
          ],
          "scatterpolargl": [
           {
            "marker": {
             "colorbar": {
              "outlinewidth": 0,
              "ticks": ""
             }
            },
            "type": "scatterpolargl"
           }
          ],
          "scatterternary": [
           {
            "marker": {
             "colorbar": {
              "outlinewidth": 0,
              "ticks": ""
             }
            },
            "type": "scatterternary"
           }
          ],
          "surface": [
           {
            "colorbar": {
             "outlinewidth": 0,
             "ticks": ""
            },
            "colorscale": [
             [
              0,
              "#0d0887"
             ],
             [
              0.1111111111111111,
              "#46039f"
             ],
             [
              0.2222222222222222,
              "#7201a8"
             ],
             [
              0.3333333333333333,
              "#9c179e"
             ],
             [
              0.4444444444444444,
              "#bd3786"
             ],
             [
              0.5555555555555556,
              "#d8576b"
             ],
             [
              0.6666666666666666,
              "#ed7953"
             ],
             [
              0.7777777777777778,
              "#fb9f3a"
             ],
             [
              0.8888888888888888,
              "#fdca26"
             ],
             [
              1,
              "#f0f921"
             ]
            ],
            "type": "surface"
           }
          ],
          "table": [
           {
            "cells": {
             "fill": {
              "color": "#EBF0F8"
             },
             "line": {
              "color": "white"
             }
            },
            "header": {
             "fill": {
              "color": "#C8D4E3"
             },
             "line": {
              "color": "white"
             }
            },
            "type": "table"
           }
          ]
         },
         "layout": {
          "annotationdefaults": {
           "arrowcolor": "#2a3f5f",
           "arrowhead": 0,
           "arrowwidth": 1
          },
          "autotypenumbers": "strict",
          "coloraxis": {
           "colorbar": {
            "outlinewidth": 0,
            "ticks": ""
           }
          },
          "colorscale": {
           "diverging": [
            [
             0,
             "#8e0152"
            ],
            [
             0.1,
             "#c51b7d"
            ],
            [
             0.2,
             "#de77ae"
            ],
            [
             0.3,
             "#f1b6da"
            ],
            [
             0.4,
             "#fde0ef"
            ],
            [
             0.5,
             "#f7f7f7"
            ],
            [
             0.6,
             "#e6f5d0"
            ],
            [
             0.7,
             "#b8e186"
            ],
            [
             0.8,
             "#7fbc41"
            ],
            [
             0.9,
             "#4d9221"
            ],
            [
             1,
             "#276419"
            ]
           ],
           "sequential": [
            [
             0,
             "#0d0887"
            ],
            [
             0.1111111111111111,
             "#46039f"
            ],
            [
             0.2222222222222222,
             "#7201a8"
            ],
            [
             0.3333333333333333,
             "#9c179e"
            ],
            [
             0.4444444444444444,
             "#bd3786"
            ],
            [
             0.5555555555555556,
             "#d8576b"
            ],
            [
             0.6666666666666666,
             "#ed7953"
            ],
            [
             0.7777777777777778,
             "#fb9f3a"
            ],
            [
             0.8888888888888888,
             "#fdca26"
            ],
            [
             1,
             "#f0f921"
            ]
           ],
           "sequentialminus": [
            [
             0,
             "#0d0887"
            ],
            [
             0.1111111111111111,
             "#46039f"
            ],
            [
             0.2222222222222222,
             "#7201a8"
            ],
            [
             0.3333333333333333,
             "#9c179e"
            ],
            [
             0.4444444444444444,
             "#bd3786"
            ],
            [
             0.5555555555555556,
             "#d8576b"
            ],
            [
             0.6666666666666666,
             "#ed7953"
            ],
            [
             0.7777777777777778,
             "#fb9f3a"
            ],
            [
             0.8888888888888888,
             "#fdca26"
            ],
            [
             1,
             "#f0f921"
            ]
           ]
          },
          "colorway": [
           "#636efa",
           "#EF553B",
           "#00cc96",
           "#ab63fa",
           "#FFA15A",
           "#19d3f3",
           "#FF6692",
           "#B6E880",
           "#FF97FF",
           "#FECB52"
          ],
          "font": {
           "color": "#2a3f5f"
          },
          "geo": {
           "bgcolor": "white",
           "lakecolor": "white",
           "landcolor": "#E5ECF6",
           "showlakes": true,
           "showland": true,
           "subunitcolor": "white"
          },
          "hoverlabel": {
           "align": "left"
          },
          "hovermode": "closest",
          "mapbox": {
           "style": "light"
          },
          "paper_bgcolor": "white",
          "plot_bgcolor": "#E5ECF6",
          "polar": {
           "angularaxis": {
            "gridcolor": "white",
            "linecolor": "white",
            "ticks": ""
           },
           "bgcolor": "#E5ECF6",
           "radialaxis": {
            "gridcolor": "white",
            "linecolor": "white",
            "ticks": ""
           }
          },
          "scene": {
           "xaxis": {
            "backgroundcolor": "#E5ECF6",
            "gridcolor": "white",
            "gridwidth": 2,
            "linecolor": "white",
            "showbackground": true,
            "ticks": "",
            "zerolinecolor": "white"
           },
           "yaxis": {
            "backgroundcolor": "#E5ECF6",
            "gridcolor": "white",
            "gridwidth": 2,
            "linecolor": "white",
            "showbackground": true,
            "ticks": "",
            "zerolinecolor": "white"
           },
           "zaxis": {
            "backgroundcolor": "#E5ECF6",
            "gridcolor": "white",
            "gridwidth": 2,
            "linecolor": "white",
            "showbackground": true,
            "ticks": "",
            "zerolinecolor": "white"
           }
          },
          "shapedefaults": {
           "line": {
            "color": "#2a3f5f"
           }
          },
          "ternary": {
           "aaxis": {
            "gridcolor": "white",
            "linecolor": "white",
            "ticks": ""
           },
           "baxis": {
            "gridcolor": "white",
            "linecolor": "white",
            "ticks": ""
           },
           "bgcolor": "#E5ECF6",
           "caxis": {
            "gridcolor": "white",
            "linecolor": "white",
            "ticks": ""
           }
          },
          "title": {
           "x": 0.05
          },
          "xaxis": {
           "automargin": true,
           "gridcolor": "white",
           "linecolor": "white",
           "ticks": "",
           "title": {
            "standoff": 15
           },
           "zerolinecolor": "white",
           "zerolinewidth": 2
          },
          "yaxis": {
           "automargin": true,
           "gridcolor": "white",
           "linecolor": "white",
           "ticks": "",
           "title": {
            "standoff": 15
           },
           "zerolinecolor": "white",
           "zerolinewidth": 2
          }
         }
        },
        "title": {
         "text": "Expected Ride Duration vs. Historical Cost of Ride"
        },
        "xaxis": {
         "anchor": "y",
         "domain": [
          0,
          1
         ],
         "title": {
          "text": "Expected_Ride_Duration"
         }
        },
        "yaxis": {
         "anchor": "x",
         "domain": [
          0,
          1
         ],
         "title": {
          "text": "Historical_Cost_of_Ride"
         }
        }
       }
      }
     },
     "metadata": {},
     "output_type": "display_data"
    }
   ],
   "source": [
    "fig = px.scatter(df, x='Expected_Ride_Duration', \n",
    "                 y='Historical_Cost_of_Ride',\n",
    "                 title='Expected Ride Duration vs. Historical Cost of Ride', \n",
    "                 trendline='ols')\n",
    "                 \n",
    "fig.show()\n",
    "fig.write_html('plots/Expected_Ride_Duration_vs_Historical_Cost_of_Ride.html')\n",
    "\n"
   ]
  },
  {
   "cell_type": "code",
   "execution_count": 4,
   "id": "50aa365a",
   "metadata": {},
   "outputs": [
    {
     "data": {
      "application/vnd.plotly.v1+json": {
       "config": {
        "plotlyServerURL": "https://plot.ly"
       },
       "data": [
        {
         "alignmentgroup": "True",
         "hovertemplate": "Vehicle_Type=%{x}<br>Historical_Cost_of_Ride=%{y}<extra></extra>",
         "legendgroup": "",
         "marker": {
          "color": "#636efa"
         },
         "name": "",
         "notched": false,
         "offsetgroup": "",
         "orientation": "v",
         "showlegend": false,
         "type": "box",
         "x": [
          "Premium",
          "Economy",
          "Premium",
          "Premium",
          "Economy",
          "Economy",
          "Premium",
          "Premium",
          "Economy",
          "Premium",
          "Economy",
          "Premium",
          "Economy",
          "Premium",
          "Premium",
          "Premium",
          "Premium",
          "Economy",
          "Premium",
          "Premium",
          "Premium",
          "Economy",
          "Economy",
          "Premium",
          "Premium",
          "Economy",
          "Premium",
          "Economy",
          "Premium",
          "Premium",
          "Premium",
          "Premium",
          "Premium",
          "Premium",
          "Economy",
          "Premium",
          "Premium",
          "Premium",
          "Economy",
          "Premium",
          "Premium",
          "Economy",
          "Economy",
          "Premium",
          "Premium",
          "Economy",
          "Premium",
          "Premium",
          "Economy",
          "Economy",
          "Economy",
          "Economy",
          "Economy",
          "Premium",
          "Premium",
          "Premium",
          "Economy",
          "Premium",
          "Economy",
          "Economy",
          "Economy",
          "Premium",
          "Premium",
          "Premium",
          "Economy",
          "Premium",
          "Economy",
          "Economy",
          "Economy",
          "Premium",
          "Economy",
          "Economy",
          "Premium",
          "Premium",
          "Economy",
          "Economy",
          "Economy",
          "Economy",
          "Premium",
          "Premium",
          "Premium",
          "Premium",
          "Economy",
          "Premium",
          "Economy",
          "Premium",
          "Economy",
          "Premium",
          "Economy",
          "Economy",
          "Premium",
          "Premium",
          "Premium",
          "Premium",
          "Economy",
          "Premium",
          "Economy",
          "Economy",
          "Premium",
          "Economy",
          "Economy",
          "Economy",
          "Premium",
          "Premium",
          "Premium",
          "Premium",
          "Economy",
          "Economy",
          "Premium",
          "Premium",
          "Economy",
          "Economy",
          "Premium",
          "Premium",
          "Economy",
          "Premium",
          "Economy",
          "Premium",
          "Premium",
          "Economy",
          "Premium",
          "Economy",
          "Economy",
          "Premium",
          "Premium",
          "Premium",
          "Premium",
          "Economy",
          "Premium",
          "Premium",
          "Economy",
          "Economy",
          "Economy",
          "Economy",
          "Economy",
          "Premium",
          "Economy",
          "Premium",
          "Economy",
          "Premium",
          "Economy",
          "Economy",
          "Economy",
          "Economy",
          "Economy",
          "Premium",
          "Premium",
          "Economy",
          "Premium",
          "Economy",
          "Economy",
          "Economy",
          "Premium",
          "Premium",
          "Economy",
          "Economy",
          "Premium",
          "Premium",
          "Premium",
          "Premium",
          "Economy",
          "Premium",
          "Economy",
          "Economy",
          "Economy",
          "Economy",
          "Economy",
          "Premium",
          "Economy",
          "Premium",
          "Economy",
          "Economy",
          "Premium",
          "Economy",
          "Economy",
          "Economy",
          "Economy",
          "Economy",
          "Economy",
          "Economy",
          "Economy",
          "Economy",
          "Premium",
          "Premium",
          "Premium",
          "Economy",
          "Premium",
          "Premium",
          "Premium",
          "Premium",
          "Premium",
          "Premium",
          "Economy",
          "Premium",
          "Premium",
          "Economy",
          "Economy",
          "Economy",
          "Economy",
          "Premium",
          "Premium",
          "Economy",
          "Premium",
          "Premium",
          "Economy",
          "Economy",
          "Premium",
          "Premium",
          "Premium",
          "Economy",
          "Economy",
          "Premium",
          "Premium",
          "Economy",
          "Premium",
          "Premium",
          "Economy",
          "Economy",
          "Economy",
          "Economy",
          "Economy",
          "Premium",
          "Economy",
          "Premium",
          "Economy",
          "Premium",
          "Premium",
          "Premium",
          "Economy",
          "Premium",
          "Premium",
          "Premium",
          "Economy",
          "Premium",
          "Economy",
          "Economy",
          "Economy",
          "Economy",
          "Premium",
          "Economy",
          "Premium",
          "Premium",
          "Economy",
          "Economy",
          "Premium",
          "Premium",
          "Economy",
          "Economy",
          "Premium",
          "Premium",
          "Premium",
          "Premium",
          "Premium",
          "Economy",
          "Premium",
          "Premium",
          "Premium",
          "Premium",
          "Premium",
          "Premium",
          "Economy",
          "Economy",
          "Economy",
          "Economy",
          "Premium",
          "Premium",
          "Economy",
          "Premium",
          "Premium",
          "Premium",
          "Economy",
          "Premium",
          "Premium",
          "Premium",
          "Premium",
          "Premium",
          "Premium",
          "Premium",
          "Premium",
          "Economy",
          "Economy",
          "Premium",
          "Economy",
          "Premium",
          "Premium",
          "Premium",
          "Premium",
          "Economy",
          "Economy",
          "Economy",
          "Economy",
          "Economy",
          "Premium",
          "Economy",
          "Economy",
          "Economy",
          "Premium",
          "Premium",
          "Premium",
          "Economy",
          "Premium",
          "Economy",
          "Premium",
          "Economy",
          "Premium",
          "Premium",
          "Economy",
          "Premium",
          "Economy",
          "Premium",
          "Economy",
          "Premium",
          "Economy",
          "Economy",
          "Economy",
          "Premium",
          "Economy",
          "Economy",
          "Premium",
          "Premium",
          "Premium",
          "Premium",
          "Premium",
          "Economy",
          "Premium",
          "Premium",
          "Premium",
          "Premium",
          "Premium",
          "Economy",
          "Economy",
          "Premium",
          "Premium",
          "Premium",
          "Economy",
          "Premium",
          "Economy",
          "Premium",
          "Premium",
          "Premium",
          "Economy",
          "Economy",
          "Premium",
          "Premium",
          "Economy",
          "Economy",
          "Economy",
          "Premium",
          "Premium",
          "Premium",
          "Premium",
          "Premium",
          "Premium",
          "Premium",
          "Economy",
          "Economy",
          "Economy",
          "Premium",
          "Economy",
          "Premium",
          "Economy",
          "Premium",
          "Premium",
          "Economy",
          "Economy",
          "Premium",
          "Economy",
          "Premium",
          "Economy",
          "Economy",
          "Premium",
          "Premium",
          "Premium",
          "Economy",
          "Premium",
          "Premium",
          "Economy",
          "Economy",
          "Economy",
          "Economy",
          "Premium",
          "Economy",
          "Premium",
          "Economy",
          "Premium",
          "Premium",
          "Economy",
          "Premium",
          "Premium",
          "Economy",
          "Economy",
          "Economy",
          "Premium",
          "Premium",
          "Economy",
          "Economy",
          "Economy",
          "Economy",
          "Economy",
          "Economy",
          "Premium",
          "Premium",
          "Premium",
          "Economy",
          "Premium",
          "Economy",
          "Economy",
          "Economy",
          "Economy",
          "Premium",
          "Economy",
          "Premium",
          "Economy",
          "Premium",
          "Economy",
          "Premium",
          "Economy",
          "Premium",
          "Premium",
          "Premium",
          "Premium",
          "Economy",
          "Premium",
          "Economy",
          "Premium",
          "Economy",
          "Economy",
          "Economy",
          "Premium",
          "Economy",
          "Premium",
          "Economy",
          "Economy",
          "Premium",
          "Premium",
          "Premium",
          "Premium",
          "Premium",
          "Premium",
          "Economy",
          "Economy",
          "Premium",
          "Economy",
          "Economy",
          "Premium",
          "Premium",
          "Premium",
          "Economy",
          "Economy",
          "Premium",
          "Premium",
          "Economy",
          "Economy",
          "Economy",
          "Economy",
          "Premium",
          "Premium",
          "Premium",
          "Premium",
          "Premium",
          "Economy",
          "Premium",
          "Premium",
          "Premium",
          "Economy",
          "Economy",
          "Economy",
          "Economy",
          "Economy",
          "Economy",
          "Premium",
          "Premium",
          "Premium",
          "Economy",
          "Premium",
          "Premium",
          "Premium",
          "Economy",
          "Economy",
          "Economy",
          "Economy",
          "Premium",
          "Economy",
          "Premium",
          "Economy",
          "Premium",
          "Economy",
          "Premium",
          "Premium",
          "Economy",
          "Economy",
          "Premium",
          "Premium",
          "Economy",
          "Economy",
          "Premium",
          "Economy",
          "Premium",
          "Premium",
          "Premium",
          "Economy",
          "Economy",
          "Economy",
          "Premium",
          "Premium",
          "Economy",
          "Economy",
          "Economy",
          "Premium",
          "Premium",
          "Economy",
          "Premium",
          "Premium",
          "Premium",
          "Premium",
          "Economy",
          "Premium",
          "Premium",
          "Premium",
          "Economy",
          "Premium",
          "Economy",
          "Premium",
          "Premium",
          "Premium",
          "Economy",
          "Economy",
          "Economy",
          "Premium",
          "Premium",
          "Economy",
          "Economy",
          "Economy",
          "Economy",
          "Premium",
          "Premium",
          "Economy",
          "Economy",
          "Economy",
          "Economy",
          "Economy",
          "Premium",
          "Economy",
          "Premium",
          "Economy",
          "Economy",
          "Economy",
          "Economy",
          "Economy",
          "Economy",
          "Premium",
          "Economy",
          "Economy",
          "Premium",
          "Economy",
          "Economy",
          "Economy",
          "Economy",
          "Economy",
          "Premium",
          "Premium",
          "Economy",
          "Economy",
          "Economy",
          "Economy",
          "Premium",
          "Economy",
          "Economy",
          "Premium",
          "Premium",
          "Economy",
          "Economy",
          "Premium",
          "Economy",
          "Economy",
          "Economy",
          "Economy",
          "Premium",
          "Premium",
          "Economy",
          "Economy",
          "Economy",
          "Economy",
          "Premium",
          "Economy",
          "Premium",
          "Economy",
          "Economy",
          "Premium",
          "Economy",
          "Economy",
          "Economy",
          "Premium",
          "Economy",
          "Premium",
          "Economy",
          "Premium",
          "Economy",
          "Premium",
          "Economy",
          "Economy",
          "Premium",
          "Economy",
          "Premium",
          "Premium",
          "Premium",
          "Premium",
          "Economy",
          "Economy",
          "Premium",
          "Premium",
          "Economy",
          "Economy",
          "Premium",
          "Premium",
          "Economy",
          "Economy",
          "Premium",
          "Economy",
          "Premium",
          "Economy",
          "Premium",
          "Economy",
          "Premium",
          "Premium",
          "Premium",
          "Economy",
          "Economy",
          "Premium",
          "Economy",
          "Economy",
          "Premium",
          "Premium",
          "Economy",
          "Premium",
          "Economy",
          "Economy",
          "Premium",
          "Premium",
          "Premium",
          "Premium",
          "Economy",
          "Premium",
          "Premium",
          "Premium",
          "Premium",
          "Premium",
          "Economy",
          "Premium",
          "Economy",
          "Economy",
          "Premium",
          "Economy",
          "Premium",
          "Economy",
          "Economy",
          "Economy",
          "Economy",
          "Economy",
          "Economy",
          "Premium",
          "Premium",
          "Premium",
          "Premium",
          "Economy",
          "Premium",
          "Premium",
          "Economy",
          "Premium",
          "Economy",
          "Premium",
          "Economy",
          "Economy",
          "Premium",
          "Premium",
          "Economy",
          "Economy",
          "Economy",
          "Economy",
          "Economy",
          "Economy",
          "Premium",
          "Premium",
          "Economy",
          "Economy",
          "Economy",
          "Premium",
          "Premium",
          "Premium",
          "Premium",
          "Economy",
          "Economy",
          "Economy",
          "Premium",
          "Premium",
          "Economy",
          "Economy",
          "Economy",
          "Economy",
          "Premium",
          "Premium",
          "Economy",
          "Economy",
          "Premium",
          "Economy",
          "Economy",
          "Premium",
          "Premium",
          "Premium",
          "Economy",
          "Premium",
          "Premium",
          "Premium",
          "Economy",
          "Economy",
          "Premium",
          "Premium",
          "Economy",
          "Premium",
          "Premium",
          "Premium",
          "Premium",
          "Economy",
          "Premium",
          "Economy",
          "Economy",
          "Premium",
          "Economy",
          "Premium",
          "Premium",
          "Economy",
          "Premium",
          "Premium",
          "Economy",
          "Premium",
          "Economy",
          "Premium",
          "Economy",
          "Premium",
          "Premium",
          "Premium",
          "Premium",
          "Economy",
          "Premium",
          "Premium",
          "Premium",
          "Economy",
          "Premium",
          "Economy",
          "Premium",
          "Premium",
          "Premium",
          "Economy",
          "Economy",
          "Premium",
          "Economy",
          "Economy",
          "Premium",
          "Economy",
          "Premium",
          "Premium",
          "Economy",
          "Premium",
          "Premium",
          "Premium",
          "Premium",
          "Economy",
          "Premium",
          "Premium",
          "Economy",
          "Economy",
          "Economy",
          "Economy",
          "Economy",
          "Economy",
          "Premium",
          "Economy",
          "Economy",
          "Economy",
          "Economy",
          "Premium",
          "Economy",
          "Premium",
          "Premium",
          "Economy",
          "Premium",
          "Premium",
          "Economy",
          "Economy",
          "Premium",
          "Premium",
          "Economy",
          "Economy",
          "Premium",
          "Premium",
          "Premium",
          "Premium",
          "Premium",
          "Premium",
          "Economy",
          "Premium",
          "Premium",
          "Premium",
          "Economy",
          "Premium",
          "Premium",
          "Premium",
          "Economy",
          "Premium",
          "Premium",
          "Economy",
          "Premium",
          "Economy",
          "Economy",
          "Premium",
          "Economy",
          "Premium",
          "Economy",
          "Premium",
          "Economy",
          "Premium",
          "Economy",
          "Economy",
          "Economy",
          "Premium",
          "Economy",
          "Premium",
          "Premium",
          "Premium",
          "Premium",
          "Economy",
          "Economy",
          "Premium",
          "Premium",
          "Premium",
          "Premium",
          "Economy",
          "Premium",
          "Economy",
          "Economy",
          "Premium",
          "Premium",
          "Premium",
          "Economy",
          "Premium",
          "Economy",
          "Premium",
          "Premium",
          "Economy",
          "Economy",
          "Premium",
          "Premium",
          "Economy",
          "Premium",
          "Economy",
          "Economy",
          "Premium",
          "Economy",
          "Premium",
          "Premium",
          "Premium",
          "Premium",
          "Economy",
          "Premium",
          "Premium",
          "Economy",
          "Economy",
          "Premium",
          "Economy",
          "Premium",
          "Premium",
          "Premium",
          "Economy",
          "Economy",
          "Premium",
          "Premium",
          "Economy",
          "Economy",
          "Premium",
          "Premium",
          "Premium",
          "Economy",
          "Premium",
          "Premium",
          "Economy",
          "Premium",
          "Economy",
          "Premium",
          "Premium",
          "Premium",
          "Premium",
          "Premium",
          "Premium",
          "Premium",
          "Premium",
          "Economy",
          "Premium",
          "Economy",
          "Economy",
          "Economy",
          "Premium",
          "Premium",
          "Premium",
          "Economy",
          "Economy",
          "Premium",
          "Premium",
          "Premium",
          "Premium",
          "Premium",
          "Premium",
          "Premium",
          "Economy",
          "Economy",
          "Economy",
          "Economy",
          "Premium",
          "Premium",
          "Economy",
          "Economy",
          "Economy",
          "Economy",
          "Economy",
          "Economy",
          "Economy",
          "Premium",
          "Economy",
          "Premium",
          "Economy",
          "Economy",
          "Economy",
          "Premium",
          "Economy",
          "Premium",
          "Premium",
          "Premium",
          "Premium",
          "Premium",
          "Premium",
          "Premium",
          "Economy",
          "Premium",
          "Economy",
          "Premium",
          "Premium",
          "Economy",
          "Premium",
          "Economy",
          "Premium",
          "Premium",
          "Premium",
          "Economy",
          "Premium",
          "Economy",
          "Premium",
          "Premium",
          "Economy",
          "Economy",
          "Economy",
          "Economy",
          "Economy",
          "Economy",
          "Premium",
          "Premium",
          "Economy",
          "Premium",
          "Economy",
          "Premium",
          "Premium",
          "Premium",
          "Premium",
          "Economy",
          "Premium",
          "Economy",
          "Premium",
          "Economy",
          "Economy",
          "Economy",
          "Economy",
          "Economy",
          "Economy",
          "Economy",
          "Premium",
          "Premium",
          "Premium",
          "Economy",
          "Premium",
          "Premium",
          "Economy",
          "Economy",
          "Economy",
          "Economy",
          "Premium",
          "Economy",
          "Premium",
          "Premium",
          "Premium",
          "Premium",
          "Premium",
          "Economy"
         ],
         "x0": " ",
         "xaxis": "x",
         "y": {
          "bdata": "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",
          "dtype": "f8"
         },
         "y0": " ",
         "yaxis": "y"
        }
       ],
       "layout": {
        "boxmode": "group",
        "legend": {
         "tracegroupgap": 0
        },
        "template": {
         "data": {
          "bar": [
           {
            "error_x": {
             "color": "#2a3f5f"
            },
            "error_y": {
             "color": "#2a3f5f"
            },
            "marker": {
             "line": {
              "color": "#E5ECF6",
              "width": 0.5
             },
             "pattern": {
              "fillmode": "overlay",
              "size": 10,
              "solidity": 0.2
             }
            },
            "type": "bar"
           }
          ],
          "barpolar": [
           {
            "marker": {
             "line": {
              "color": "#E5ECF6",
              "width": 0.5
             },
             "pattern": {
              "fillmode": "overlay",
              "size": 10,
              "solidity": 0.2
             }
            },
            "type": "barpolar"
           }
          ],
          "carpet": [
           {
            "aaxis": {
             "endlinecolor": "#2a3f5f",
             "gridcolor": "white",
             "linecolor": "white",
             "minorgridcolor": "white",
             "startlinecolor": "#2a3f5f"
            },
            "baxis": {
             "endlinecolor": "#2a3f5f",
             "gridcolor": "white",
             "linecolor": "white",
             "minorgridcolor": "white",
             "startlinecolor": "#2a3f5f"
            },
            "type": "carpet"
           }
          ],
          "choropleth": [
           {
            "colorbar": {
             "outlinewidth": 0,
             "ticks": ""
            },
            "type": "choropleth"
           }
          ],
          "contour": [
           {
            "colorbar": {
             "outlinewidth": 0,
             "ticks": ""
            },
            "colorscale": [
             [
              0,
              "#0d0887"
             ],
             [
              0.1111111111111111,
              "#46039f"
             ],
             [
              0.2222222222222222,
              "#7201a8"
             ],
             [
              0.3333333333333333,
              "#9c179e"
             ],
             [
              0.4444444444444444,
              "#bd3786"
             ],
             [
              0.5555555555555556,
              "#d8576b"
             ],
             [
              0.6666666666666666,
              "#ed7953"
             ],
             [
              0.7777777777777778,
              "#fb9f3a"
             ],
             [
              0.8888888888888888,
              "#fdca26"
             ],
             [
              1,
              "#f0f921"
             ]
            ],
            "type": "contour"
           }
          ],
          "contourcarpet": [
           {
            "colorbar": {
             "outlinewidth": 0,
             "ticks": ""
            },
            "type": "contourcarpet"
           }
          ],
          "heatmap": [
           {
            "colorbar": {
             "outlinewidth": 0,
             "ticks": ""
            },
            "colorscale": [
             [
              0,
              "#0d0887"
             ],
             [
              0.1111111111111111,
              "#46039f"
             ],
             [
              0.2222222222222222,
              "#7201a8"
             ],
             [
              0.3333333333333333,
              "#9c179e"
             ],
             [
              0.4444444444444444,
              "#bd3786"
             ],
             [
              0.5555555555555556,
              "#d8576b"
             ],
             [
              0.6666666666666666,
              "#ed7953"
             ],
             [
              0.7777777777777778,
              "#fb9f3a"
             ],
             [
              0.8888888888888888,
              "#fdca26"
             ],
             [
              1,
              "#f0f921"
             ]
            ],
            "type": "heatmap"
           }
          ],
          "histogram": [
           {
            "marker": {
             "pattern": {
              "fillmode": "overlay",
              "size": 10,
              "solidity": 0.2
             }
            },
            "type": "histogram"
           }
          ],
          "histogram2d": [
           {
            "colorbar": {
             "outlinewidth": 0,
             "ticks": ""
            },
            "colorscale": [
             [
              0,
              "#0d0887"
             ],
             [
              0.1111111111111111,
              "#46039f"
             ],
             [
              0.2222222222222222,
              "#7201a8"
             ],
             [
              0.3333333333333333,
              "#9c179e"
             ],
             [
              0.4444444444444444,
              "#bd3786"
             ],
             [
              0.5555555555555556,
              "#d8576b"
             ],
             [
              0.6666666666666666,
              "#ed7953"
             ],
             [
              0.7777777777777778,
              "#fb9f3a"
             ],
             [
              0.8888888888888888,
              "#fdca26"
             ],
             [
              1,
              "#f0f921"
             ]
            ],
            "type": "histogram2d"
           }
          ],
          "histogram2dcontour": [
           {
            "colorbar": {
             "outlinewidth": 0,
             "ticks": ""
            },
            "colorscale": [
             [
              0,
              "#0d0887"
             ],
             [
              0.1111111111111111,
              "#46039f"
             ],
             [
              0.2222222222222222,
              "#7201a8"
             ],
             [
              0.3333333333333333,
              "#9c179e"
             ],
             [
              0.4444444444444444,
              "#bd3786"
             ],
             [
              0.5555555555555556,
              "#d8576b"
             ],
             [
              0.6666666666666666,
              "#ed7953"
             ],
             [
              0.7777777777777778,
              "#fb9f3a"
             ],
             [
              0.8888888888888888,
              "#fdca26"
             ],
             [
              1,
              "#f0f921"
             ]
            ],
            "type": "histogram2dcontour"
           }
          ],
          "mesh3d": [
           {
            "colorbar": {
             "outlinewidth": 0,
             "ticks": ""
            },
            "type": "mesh3d"
           }
          ],
          "parcoords": [
           {
            "line": {
             "colorbar": {
              "outlinewidth": 0,
              "ticks": ""
             }
            },
            "type": "parcoords"
           }
          ],
          "pie": [
           {
            "automargin": true,
            "type": "pie"
           }
          ],
          "scatter": [
           {
            "fillpattern": {
             "fillmode": "overlay",
             "size": 10,
             "solidity": 0.2
            },
            "type": "scatter"
           }
          ],
          "scatter3d": [
           {
            "line": {
             "colorbar": {
              "outlinewidth": 0,
              "ticks": ""
             }
            },
            "marker": {
             "colorbar": {
              "outlinewidth": 0,
              "ticks": ""
             }
            },
            "type": "scatter3d"
           }
          ],
          "scattercarpet": [
           {
            "marker": {
             "colorbar": {
              "outlinewidth": 0,
              "ticks": ""
             }
            },
            "type": "scattercarpet"
           }
          ],
          "scattergeo": [
           {
            "marker": {
             "colorbar": {
              "outlinewidth": 0,
              "ticks": ""
             }
            },
            "type": "scattergeo"
           }
          ],
          "scattergl": [
           {
            "marker": {
             "colorbar": {
              "outlinewidth": 0,
              "ticks": ""
             }
            },
            "type": "scattergl"
           }
          ],
          "scattermap": [
           {
            "marker": {
             "colorbar": {
              "outlinewidth": 0,
              "ticks": ""
             }
            },
            "type": "scattermap"
           }
          ],
          "scattermapbox": [
           {
            "marker": {
             "colorbar": {
              "outlinewidth": 0,
              "ticks": ""
             }
            },
            "type": "scattermapbox"
           }
          ],
          "scatterpolar": [
           {
            "marker": {
             "colorbar": {
              "outlinewidth": 0,
              "ticks": ""
             }
            },
            "type": "scatterpolar"
           }
          ],
          "scatterpolargl": [
           {
            "marker": {
             "colorbar": {
              "outlinewidth": 0,
              "ticks": ""
             }
            },
            "type": "scatterpolargl"
           }
          ],
          "scatterternary": [
           {
            "marker": {
             "colorbar": {
              "outlinewidth": 0,
              "ticks": ""
             }
            },
            "type": "scatterternary"
           }
          ],
          "surface": [
           {
            "colorbar": {
             "outlinewidth": 0,
             "ticks": ""
            },
            "colorscale": [
             [
              0,
              "#0d0887"
             ],
             [
              0.1111111111111111,
              "#46039f"
             ],
             [
              0.2222222222222222,
              "#7201a8"
             ],
             [
              0.3333333333333333,
              "#9c179e"
             ],
             [
              0.4444444444444444,
              "#bd3786"
             ],
             [
              0.5555555555555556,
              "#d8576b"
             ],
             [
              0.6666666666666666,
              "#ed7953"
             ],
             [
              0.7777777777777778,
              "#fb9f3a"
             ],
             [
              0.8888888888888888,
              "#fdca26"
             ],
             [
              1,
              "#f0f921"
             ]
            ],
            "type": "surface"
           }
          ],
          "table": [
           {
            "cells": {
             "fill": {
              "color": "#EBF0F8"
             },
             "line": {
              "color": "white"
             }
            },
            "header": {
             "fill": {
              "color": "#C8D4E3"
             },
             "line": {
              "color": "white"
             }
            },
            "type": "table"
           }
          ]
         },
         "layout": {
          "annotationdefaults": {
           "arrowcolor": "#2a3f5f",
           "arrowhead": 0,
           "arrowwidth": 1
          },
          "autotypenumbers": "strict",
          "coloraxis": {
           "colorbar": {
            "outlinewidth": 0,
            "ticks": ""
           }
          },
          "colorscale": {
           "diverging": [
            [
             0,
             "#8e0152"
            ],
            [
             0.1,
             "#c51b7d"
            ],
            [
             0.2,
             "#de77ae"
            ],
            [
             0.3,
             "#f1b6da"
            ],
            [
             0.4,
             "#fde0ef"
            ],
            [
             0.5,
             "#f7f7f7"
            ],
            [
             0.6,
             "#e6f5d0"
            ],
            [
             0.7,
             "#b8e186"
            ],
            [
             0.8,
             "#7fbc41"
            ],
            [
             0.9,
             "#4d9221"
            ],
            [
             1,
             "#276419"
            ]
           ],
           "sequential": [
            [
             0,
             "#0d0887"
            ],
            [
             0.1111111111111111,
             "#46039f"
            ],
            [
             0.2222222222222222,
             "#7201a8"
            ],
            [
             0.3333333333333333,
             "#9c179e"
            ],
            [
             0.4444444444444444,
             "#bd3786"
            ],
            [
             0.5555555555555556,
             "#d8576b"
            ],
            [
             0.6666666666666666,
             "#ed7953"
            ],
            [
             0.7777777777777778,
             "#fb9f3a"
            ],
            [
             0.8888888888888888,
             "#fdca26"
            ],
            [
             1,
             "#f0f921"
            ]
           ],
           "sequentialminus": [
            [
             0,
             "#0d0887"
            ],
            [
             0.1111111111111111,
             "#46039f"
            ],
            [
             0.2222222222222222,
             "#7201a8"
            ],
            [
             0.3333333333333333,
             "#9c179e"
            ],
            [
             0.4444444444444444,
             "#bd3786"
            ],
            [
             0.5555555555555556,
             "#d8576b"
            ],
            [
             0.6666666666666666,
             "#ed7953"
            ],
            [
             0.7777777777777778,
             "#fb9f3a"
            ],
            [
             0.8888888888888888,
             "#fdca26"
            ],
            [
             1,
             "#f0f921"
            ]
           ]
          },
          "colorway": [
           "#636efa",
           "#EF553B",
           "#00cc96",
           "#ab63fa",
           "#FFA15A",
           "#19d3f3",
           "#FF6692",
           "#B6E880",
           "#FF97FF",
           "#FECB52"
          ],
          "font": {
           "color": "#2a3f5f"
          },
          "geo": {
           "bgcolor": "white",
           "lakecolor": "white",
           "landcolor": "#E5ECF6",
           "showlakes": true,
           "showland": true,
           "subunitcolor": "white"
          },
          "hoverlabel": {
           "align": "left"
          },
          "hovermode": "closest",
          "mapbox": {
           "style": "light"
          },
          "paper_bgcolor": "white",
          "plot_bgcolor": "#E5ECF6",
          "polar": {
           "angularaxis": {
            "gridcolor": "white",
            "linecolor": "white",
            "ticks": ""
           },
           "bgcolor": "#E5ECF6",
           "radialaxis": {
            "gridcolor": "white",
            "linecolor": "white",
            "ticks": ""
           }
          },
          "scene": {
           "xaxis": {
            "backgroundcolor": "#E5ECF6",
            "gridcolor": "white",
            "gridwidth": 2,
            "linecolor": "white",
            "showbackground": true,
            "ticks": "",
            "zerolinecolor": "white"
           },
           "yaxis": {
            "backgroundcolor": "#E5ECF6",
            "gridcolor": "white",
            "gridwidth": 2,
            "linecolor": "white",
            "showbackground": true,
            "ticks": "",
            "zerolinecolor": "white"
           },
           "zaxis": {
            "backgroundcolor": "#E5ECF6",
            "gridcolor": "white",
            "gridwidth": 2,
            "linecolor": "white",
            "showbackground": true,
            "ticks": "",
            "zerolinecolor": "white"
           }
          },
          "shapedefaults": {
           "line": {
            "color": "#2a3f5f"
           }
          },
          "ternary": {
           "aaxis": {
            "gridcolor": "white",
            "linecolor": "white",
            "ticks": ""
           },
           "baxis": {
            "gridcolor": "white",
            "linecolor": "white",
            "ticks": ""
           },
           "bgcolor": "#E5ECF6",
           "caxis": {
            "gridcolor": "white",
            "linecolor": "white",
            "ticks": ""
           }
          },
          "title": {
           "x": 0.05
          },
          "xaxis": {
           "automargin": true,
           "gridcolor": "white",
           "linecolor": "white",
           "ticks": "",
           "title": {
            "standoff": 15
           },
           "zerolinecolor": "white",
           "zerolinewidth": 2
          },
          "yaxis": {
           "automargin": true,
           "gridcolor": "white",
           "linecolor": "white",
           "ticks": "",
           "title": {
            "standoff": 15
           },
           "zerolinecolor": "white",
           "zerolinewidth": 2
          }
         }
        },
        "title": {
         "text": "Distribution of Historical Cost of Rides by Vehicle Type"
        },
        "xaxis": {
         "anchor": "y",
         "domain": [
          0,
          1
         ],
         "title": {
          "text": "Vehicle_Type"
         }
        },
        "yaxis": {
         "anchor": "x",
         "domain": [
          0,
          1
         ],
         "title": {
          "text": "Historical_Cost_of_Ride"
         }
        }
       }
      }
     },
     "metadata": {},
     "output_type": "display_data"
    }
   ],
   "source": [
    "# distribution of the historical cost of rides based on the vehicle type\n",
    "fig = px.box(df, x='Vehicle_Type', y='Historical_Cost_of_Ride', \n",
    "             title='Distribution of Historical Cost of Rides by Vehicle Type')\n",
    "fig.show()\n",
    "fig.write_html('plots/Distribution_of_Historical_Cost_of_Rides_by_Vehicle_Type.html')\n",
    "\n",
    " "
   ]
  },
  {
   "cell_type": "code",
   "execution_count": null,
   "id": "4de28ee8",
   "metadata": {},
   "outputs": [
    {
     "data": {
      "application/vnd.plotly.v1+json": {
       "config": {
        "plotlyServerURL": "https://plot.ly"
       },
       "data": [
        {
         "colorscale": [
          [
           0,
           "rgb(103,0,31)"
          ],
          [
           0.1,
           "rgb(178,24,43)"
          ],
          [
           0.2,
           "rgb(214,96,77)"
          ],
          [
           0.3,
           "rgb(244,165,130)"
          ],
          [
           0.4,
           "rgb(253,219,199)"
          ],
          [
           0.5,
           "rgb(247,247,247)"
          ],
          [
           0.6,
           "rgb(209,229,240)"
          ],
          [
           0.7,
           "rgb(146,197,222)"
          ],
          [
           0.8,
           "rgb(67,147,195)"
          ],
          [
           0.9,
           "rgb(33,102,172)"
          ],
          [
           1,
           "rgb(5,48,97)"
          ]
         ],
         "type": "heatmap",
         "x": [
          "Number_of_Riders",
          "Number_of_Drivers",
          "Number_of_Past_Rides",
          "Average_Ratings",
          "Expected_Ride_Duration",
          "Historical_Cost_of_Ride"
         ],
         "y": [
          "Number_of_Riders",
          "Number_of_Drivers",
          "Number_of_Past_Rides",
          "Average_Ratings",
          "Expected_Ride_Duration",
          "Historical_Cost_of_Ride"
         ],
         "z": {
          "bdata": "AAAAAAAA8D891miUhBDkP2zmhHSp950/vFVvfvaNgT9YnWr9njyQv1JQzpKw3Hc/PdZolIQQ5D8AAAAAAADwP4jgdv1fTqQ/+No3OMEYpT/hg49o7ACZv5UXHY/dfZE/bOaEdKn3nT+I4Hb9X06kPwAAAAAAAPA/V4zaR2CSsL9K+Sx6QGqfPxpdEx0RXKI/vFVvfvaNgT/42jc4wRilP1eM2kdgkrC/AAAAAAAA8D8Ye9uuGWCRv5Uwhpv6a1G/WJ1q/Z48kL/hg49o7ACZv0r5LHpAap8/GHvbrhlgkb8AAAAAAADwP0XIRG53ru0/UlDOkrDcdz+VFx2P3X2RPxpdEx0RXKI/lTCGm/prUb9FyERud67tPwAAAAAAAPA/",
          "dtype": "f8",
          "shape": "6, 6"
         }
        }
       ],
       "layout": {
        "annotations": [
         {
          "font": {
           "color": "white"
          },
          "showarrow": false,
          "text": "1.00",
          "x": "Number_of_Riders",
          "y": "Number_of_Riders"
         },
         {
          "font": {
           "color": "white"
          },
          "showarrow": false,
          "text": "0.63",
          "x": "Number_of_Drivers",
          "y": "Number_of_Riders"
         },
         {
          "font": {
           "color": "black"
          },
          "showarrow": false,
          "text": "0.03",
          "x": "Number_of_Past_Rides",
          "y": "Number_of_Riders"
         },
         {
          "font": {
           "color": "black"
          },
          "showarrow": false,
          "text": "0.01",
          "x": "Average_Ratings",
          "y": "Number_of_Riders"
         },
         {
          "font": {
           "color": "black"
          },
          "showarrow": false,
          "text": "-0.02",
          "x": "Expected_Ride_Duration",
          "y": "Number_of_Riders"
         },
         {
          "font": {
           "color": "black"
          },
          "showarrow": false,
          "text": "0.01",
          "x": "Historical_Cost_of_Ride",
          "y": "Number_of_Riders"
         },
         {
          "font": {
           "color": "white"
          },
          "showarrow": false,
          "text": "0.63",
          "x": "Number_of_Riders",
          "y": "Number_of_Drivers"
         },
         {
          "font": {
           "color": "white"
          },
          "showarrow": false,
          "text": "1.00",
          "x": "Number_of_Drivers",
          "y": "Number_of_Drivers"
         },
         {
          "font": {
           "color": "black"
          },
          "showarrow": false,
          "text": "0.04",
          "x": "Number_of_Past_Rides",
          "y": "Number_of_Drivers"
         },
         {
          "font": {
           "color": "black"
          },
          "showarrow": false,
          "text": "0.04",
          "x": "Average_Ratings",
          "y": "Number_of_Drivers"
         },
         {
          "font": {
           "color": "black"
          },
          "showarrow": false,
          "text": "-0.02",
          "x": "Expected_Ride_Duration",
          "y": "Number_of_Drivers"
         },
         {
          "font": {
           "color": "black"
          },
          "showarrow": false,
          "text": "0.02",
          "x": "Historical_Cost_of_Ride",
          "y": "Number_of_Drivers"
         },
         {
          "font": {
           "color": "black"
          },
          "showarrow": false,
          "text": "0.03",
          "x": "Number_of_Riders",
          "y": "Number_of_Past_Rides"
         },
         {
          "font": {
           "color": "black"
          },
          "showarrow": false,
          "text": "0.04",
          "x": "Number_of_Drivers",
          "y": "Number_of_Past_Rides"
         },
         {
          "font": {
           "color": "white"
          },
          "showarrow": false,
          "text": "1.00",
          "x": "Number_of_Past_Rides",
          "y": "Number_of_Past_Rides"
         },
         {
          "font": {
           "color": "black"
          },
          "showarrow": false,
          "text": "-0.06",
          "x": "Average_Ratings",
          "y": "Number_of_Past_Rides"
         },
         {
          "font": {
           "color": "black"
          },
          "showarrow": false,
          "text": "0.03",
          "x": "Expected_Ride_Duration",
          "y": "Number_of_Past_Rides"
         },
         {
          "font": {
           "color": "black"
          },
          "showarrow": false,
          "text": "0.04",
          "x": "Historical_Cost_of_Ride",
          "y": "Number_of_Past_Rides"
         },
         {
          "font": {
           "color": "black"
          },
          "showarrow": false,
          "text": "0.01",
          "x": "Number_of_Riders",
          "y": "Average_Ratings"
         },
         {
          "font": {
           "color": "black"
          },
          "showarrow": false,
          "text": "0.04",
          "x": "Number_of_Drivers",
          "y": "Average_Ratings"
         },
         {
          "font": {
           "color": "black"
          },
          "showarrow": false,
          "text": "-0.06",
          "x": "Number_of_Past_Rides",
          "y": "Average_Ratings"
         },
         {
          "font": {
           "color": "white"
          },
          "showarrow": false,
          "text": "1.00",
          "x": "Average_Ratings",
          "y": "Average_Ratings"
         },
         {
          "font": {
           "color": "black"
          },
          "showarrow": false,
          "text": "-0.02",
          "x": "Expected_Ride_Duration",
          "y": "Average_Ratings"
         },
         {
          "font": {
           "color": "black"
          },
          "showarrow": false,
          "text": "-0.00",
          "x": "Historical_Cost_of_Ride",
          "y": "Average_Ratings"
         },
         {
          "font": {
           "color": "black"
          },
          "showarrow": false,
          "text": "-0.02",
          "x": "Number_of_Riders",
          "y": "Expected_Ride_Duration"
         },
         {
          "font": {
           "color": "black"
          },
          "showarrow": false,
          "text": "-0.02",
          "x": "Number_of_Drivers",
          "y": "Expected_Ride_Duration"
         },
         {
          "font": {
           "color": "black"
          },
          "showarrow": false,
          "text": "0.03",
          "x": "Number_of_Past_Rides",
          "y": "Expected_Ride_Duration"
         },
         {
          "font": {
           "color": "black"
          },
          "showarrow": false,
          "text": "-0.02",
          "x": "Average_Ratings",
          "y": "Expected_Ride_Duration"
         },
         {
          "font": {
           "color": "white"
          },
          "showarrow": false,
          "text": "1.00",
          "x": "Expected_Ride_Duration",
          "y": "Expected_Ride_Duration"
         },
         {
          "font": {
           "color": "white"
          },
          "showarrow": false,
          "text": "0.93",
          "x": "Historical_Cost_of_Ride",
          "y": "Expected_Ride_Duration"
         },
         {
          "font": {
           "color": "black"
          },
          "showarrow": false,
          "text": "0.01",
          "x": "Number_of_Riders",
          "y": "Historical_Cost_of_Ride"
         },
         {
          "font": {
           "color": "black"
          },
          "showarrow": false,
          "text": "0.02",
          "x": "Number_of_Drivers",
          "y": "Historical_Cost_of_Ride"
         },
         {
          "font": {
           "color": "black"
          },
          "showarrow": false,
          "text": "0.04",
          "x": "Number_of_Past_Rides",
          "y": "Historical_Cost_of_Ride"
         },
         {
          "font": {
           "color": "black"
          },
          "showarrow": false,
          "text": "-0.00",
          "x": "Average_Ratings",
          "y": "Historical_Cost_of_Ride"
         },
         {
          "font": {
           "color": "white"
          },
          "showarrow": false,
          "text": "0.93",
          "x": "Expected_Ride_Duration",
          "y": "Historical_Cost_of_Ride"
         },
         {
          "font": {
           "color": "white"
          },
          "showarrow": false,
          "text": "1.00",
          "x": "Historical_Cost_of_Ride",
          "y": "Historical_Cost_of_Ride"
         }
        ],
        "template": {
         "data": {
          "bar": [
           {
            "error_x": {
             "color": "#2a3f5f"
            },
            "error_y": {
             "color": "#2a3f5f"
            },
            "marker": {
             "line": {
              "color": "#E5ECF6",
              "width": 0.5
             },
             "pattern": {
              "fillmode": "overlay",
              "size": 10,
              "solidity": 0.2
             }
            },
            "type": "bar"
           }
          ],
          "barpolar": [
           {
            "marker": {
             "line": {
              "color": "#E5ECF6",
              "width": 0.5
             },
             "pattern": {
              "fillmode": "overlay",
              "size": 10,
              "solidity": 0.2
             }
            },
            "type": "barpolar"
           }
          ],
          "carpet": [
           {
            "aaxis": {
             "endlinecolor": "#2a3f5f",
             "gridcolor": "white",
             "linecolor": "white",
             "minorgridcolor": "white",
             "startlinecolor": "#2a3f5f"
            },
            "baxis": {
             "endlinecolor": "#2a3f5f",
             "gridcolor": "white",
             "linecolor": "white",
             "minorgridcolor": "white",
             "startlinecolor": "#2a3f5f"
            },
            "type": "carpet"
           }
          ],
          "choropleth": [
           {
            "colorbar": {
             "outlinewidth": 0,
             "ticks": ""
            },
            "type": "choropleth"
           }
          ],
          "contour": [
           {
            "colorbar": {
             "outlinewidth": 0,
             "ticks": ""
            },
            "colorscale": [
             [
              0,
              "#0d0887"
             ],
             [
              0.1111111111111111,
              "#46039f"
             ],
             [
              0.2222222222222222,
              "#7201a8"
             ],
             [
              0.3333333333333333,
              "#9c179e"
             ],
             [
              0.4444444444444444,
              "#bd3786"
             ],
             [
              0.5555555555555556,
              "#d8576b"
             ],
             [
              0.6666666666666666,
              "#ed7953"
             ],
             [
              0.7777777777777778,
              "#fb9f3a"
             ],
             [
              0.8888888888888888,
              "#fdca26"
             ],
             [
              1,
              "#f0f921"
             ]
            ],
            "type": "contour"
           }
          ],
          "contourcarpet": [
           {
            "colorbar": {
             "outlinewidth": 0,
             "ticks": ""
            },
            "type": "contourcarpet"
           }
          ],
          "heatmap": [
           {
            "colorbar": {
             "outlinewidth": 0,
             "ticks": ""
            },
            "colorscale": [
             [
              0,
              "#0d0887"
             ],
             [
              0.1111111111111111,
              "#46039f"
             ],
             [
              0.2222222222222222,
              "#7201a8"
             ],
             [
              0.3333333333333333,
              "#9c179e"
             ],
             [
              0.4444444444444444,
              "#bd3786"
             ],
             [
              0.5555555555555556,
              "#d8576b"
             ],
             [
              0.6666666666666666,
              "#ed7953"
             ],
             [
              0.7777777777777778,
              "#fb9f3a"
             ],
             [
              0.8888888888888888,
              "#fdca26"
             ],
             [
              1,
              "#f0f921"
             ]
            ],
            "type": "heatmap"
           }
          ],
          "histogram": [
           {
            "marker": {
             "pattern": {
              "fillmode": "overlay",
              "size": 10,
              "solidity": 0.2
             }
            },
            "type": "histogram"
           }
          ],
          "histogram2d": [
           {
            "colorbar": {
             "outlinewidth": 0,
             "ticks": ""
            },
            "colorscale": [
             [
              0,
              "#0d0887"
             ],
             [
              0.1111111111111111,
              "#46039f"
             ],
             [
              0.2222222222222222,
              "#7201a8"
             ],
             [
              0.3333333333333333,
              "#9c179e"
             ],
             [
              0.4444444444444444,
              "#bd3786"
             ],
             [
              0.5555555555555556,
              "#d8576b"
             ],
             [
              0.6666666666666666,
              "#ed7953"
             ],
             [
              0.7777777777777778,
              "#fb9f3a"
             ],
             [
              0.8888888888888888,
              "#fdca26"
             ],
             [
              1,
              "#f0f921"
             ]
            ],
            "type": "histogram2d"
           }
          ],
          "histogram2dcontour": [
           {
            "colorbar": {
             "outlinewidth": 0,
             "ticks": ""
            },
            "colorscale": [
             [
              0,
              "#0d0887"
             ],
             [
              0.1111111111111111,
              "#46039f"
             ],
             [
              0.2222222222222222,
              "#7201a8"
             ],
             [
              0.3333333333333333,
              "#9c179e"
             ],
             [
              0.4444444444444444,
              "#bd3786"
             ],
             [
              0.5555555555555556,
              "#d8576b"
             ],
             [
              0.6666666666666666,
              "#ed7953"
             ],
             [
              0.7777777777777778,
              "#fb9f3a"
             ],
             [
              0.8888888888888888,
              "#fdca26"
             ],
             [
              1,
              "#f0f921"
             ]
            ],
            "type": "histogram2dcontour"
           }
          ],
          "mesh3d": [
           {
            "colorbar": {
             "outlinewidth": 0,
             "ticks": ""
            },
            "type": "mesh3d"
           }
          ],
          "parcoords": [
           {
            "line": {
             "colorbar": {
              "outlinewidth": 0,
              "ticks": ""
             }
            },
            "type": "parcoords"
           }
          ],
          "pie": [
           {
            "automargin": true,
            "type": "pie"
           }
          ],
          "scatter": [
           {
            "fillpattern": {
             "fillmode": "overlay",
             "size": 10,
             "solidity": 0.2
            },
            "type": "scatter"
           }
          ],
          "scatter3d": [
           {
            "line": {
             "colorbar": {
              "outlinewidth": 0,
              "ticks": ""
             }
            },
            "marker": {
             "colorbar": {
              "outlinewidth": 0,
              "ticks": ""
             }
            },
            "type": "scatter3d"
           }
          ],
          "scattercarpet": [
           {
            "marker": {
             "colorbar": {
              "outlinewidth": 0,
              "ticks": ""
             }
            },
            "type": "scattercarpet"
           }
          ],
          "scattergeo": [
           {
            "marker": {
             "colorbar": {
              "outlinewidth": 0,
              "ticks": ""
             }
            },
            "type": "scattergeo"
           }
          ],
          "scattergl": [
           {
            "marker": {
             "colorbar": {
              "outlinewidth": 0,
              "ticks": ""
             }
            },
            "type": "scattergl"
           }
          ],
          "scattermap": [
           {
            "marker": {
             "colorbar": {
              "outlinewidth": 0,
              "ticks": ""
             }
            },
            "type": "scattermap"
           }
          ],
          "scattermapbox": [
           {
            "marker": {
             "colorbar": {
              "outlinewidth": 0,
              "ticks": ""
             }
            },
            "type": "scattermapbox"
           }
          ],
          "scatterpolar": [
           {
            "marker": {
             "colorbar": {
              "outlinewidth": 0,
              "ticks": ""
             }
            },
            "type": "scatterpolar"
           }
          ],
          "scatterpolargl": [
           {
            "marker": {
             "colorbar": {
              "outlinewidth": 0,
              "ticks": ""
             }
            },
            "type": "scatterpolargl"
           }
          ],
          "scatterternary": [
           {
            "marker": {
             "colorbar": {
              "outlinewidth": 0,
              "ticks": ""
             }
            },
            "type": "scatterternary"
           }
          ],
          "surface": [
           {
            "colorbar": {
             "outlinewidth": 0,
             "ticks": ""
            },
            "colorscale": [
             [
              0,
              "#0d0887"
             ],
             [
              0.1111111111111111,
              "#46039f"
             ],
             [
              0.2222222222222222,
              "#7201a8"
             ],
             [
              0.3333333333333333,
              "#9c179e"
             ],
             [
              0.4444444444444444,
              "#bd3786"
             ],
             [
              0.5555555555555556,
              "#d8576b"
             ],
             [
              0.6666666666666666,
              "#ed7953"
             ],
             [
              0.7777777777777778,
              "#fb9f3a"
             ],
             [
              0.8888888888888888,
              "#fdca26"
             ],
             [
              1,
              "#f0f921"
             ]
            ],
            "type": "surface"
           }
          ],
          "table": [
           {
            "cells": {
             "fill": {
              "color": "#EBF0F8"
             },
             "line": {
              "color": "white"
             }
            },
            "header": {
             "fill": {
              "color": "#C8D4E3"
             },
             "line": {
              "color": "white"
             }
            },
            "type": "table"
           }
          ]
         },
         "layout": {
          "annotationdefaults": {
           "arrowcolor": "#2a3f5f",
           "arrowhead": 0,
           "arrowwidth": 1
          },
          "autotypenumbers": "strict",
          "coloraxis": {
           "colorbar": {
            "outlinewidth": 0,
            "ticks": ""
           }
          },
          "colorscale": {
           "diverging": [
            [
             0,
             "#8e0152"
            ],
            [
             0.1,
             "#c51b7d"
            ],
            [
             0.2,
             "#de77ae"
            ],
            [
             0.3,
             "#f1b6da"
            ],
            [
             0.4,
             "#fde0ef"
            ],
            [
             0.5,
             "#f7f7f7"
            ],
            [
             0.6,
             "#e6f5d0"
            ],
            [
             0.7,
             "#b8e186"
            ],
            [
             0.8,
             "#7fbc41"
            ],
            [
             0.9,
             "#4d9221"
            ],
            [
             1,
             "#276419"
            ]
           ],
           "sequential": [
            [
             0,
             "#0d0887"
            ],
            [
             0.1111111111111111,
             "#46039f"
            ],
            [
             0.2222222222222222,
             "#7201a8"
            ],
            [
             0.3333333333333333,
             "#9c179e"
            ],
            [
             0.4444444444444444,
             "#bd3786"
            ],
            [
             0.5555555555555556,
             "#d8576b"
            ],
            [
             0.6666666666666666,
             "#ed7953"
            ],
            [
             0.7777777777777778,
             "#fb9f3a"
            ],
            [
             0.8888888888888888,
             "#fdca26"
            ],
            [
             1,
             "#f0f921"
            ]
           ],
           "sequentialminus": [
            [
             0,
             "#0d0887"
            ],
            [
             0.1111111111111111,
             "#46039f"
            ],
            [
             0.2222222222222222,
             "#7201a8"
            ],
            [
             0.3333333333333333,
             "#9c179e"
            ],
            [
             0.4444444444444444,
             "#bd3786"
            ],
            [
             0.5555555555555556,
             "#d8576b"
            ],
            [
             0.6666666666666666,
             "#ed7953"
            ],
            [
             0.7777777777777778,
             "#fb9f3a"
            ],
            [
             0.8888888888888888,
             "#fdca26"
            ],
            [
             1,
             "#f0f921"
            ]
           ]
          },
          "colorway": [
           "#636efa",
           "#EF553B",
           "#00cc96",
           "#ab63fa",
           "#FFA15A",
           "#19d3f3",
           "#FF6692",
           "#B6E880",
           "#FF97FF",
           "#FECB52"
          ],
          "font": {
           "color": "#2a3f5f"
          },
          "geo": {
           "bgcolor": "white",
           "lakecolor": "white",
           "landcolor": "#E5ECF6",
           "showlakes": true,
           "showland": true,
           "subunitcolor": "white"
          },
          "hoverlabel": {
           "align": "left"
          },
          "hovermode": "closest",
          "mapbox": {
           "style": "light"
          },
          "paper_bgcolor": "white",
          "plot_bgcolor": "#E5ECF6",
          "polar": {
           "angularaxis": {
            "gridcolor": "white",
            "linecolor": "white",
            "ticks": ""
           },
           "bgcolor": "#E5ECF6",
           "radialaxis": {
            "gridcolor": "white",
            "linecolor": "white",
            "ticks": ""
           }
          },
          "scene": {
           "xaxis": {
            "backgroundcolor": "#E5ECF6",
            "gridcolor": "white",
            "gridwidth": 2,
            "linecolor": "white",
            "showbackground": true,
            "ticks": "",
            "zerolinecolor": "white"
           },
           "yaxis": {
            "backgroundcolor": "#E5ECF6",
            "gridcolor": "white",
            "gridwidth": 2,
            "linecolor": "white",
            "showbackground": true,
            "ticks": "",
            "zerolinecolor": "white"
           },
           "zaxis": {
            "backgroundcolor": "#E5ECF6",
            "gridcolor": "white",
            "gridwidth": 2,
            "linecolor": "white",
            "showbackground": true,
            "ticks": "",
            "zerolinecolor": "white"
           }
          },
          "shapedefaults": {
           "line": {
            "color": "#2a3f5f"
           }
          },
          "ternary": {
           "aaxis": {
            "gridcolor": "white",
            "linecolor": "white",
            "ticks": ""
           },
           "baxis": {
            "gridcolor": "white",
            "linecolor": "white",
            "ticks": ""
           },
           "bgcolor": "#E5ECF6",
           "caxis": {
            "gridcolor": "white",
            "linecolor": "white",
            "ticks": ""
           }
          },
          "title": {
           "x": 0.05
          },
          "xaxis": {
           "automargin": true,
           "gridcolor": "white",
           "linecolor": "white",
           "ticks": "",
           "title": {
            "standoff": 15
           },
           "zerolinecolor": "white",
           "zerolinewidth": 2
          },
          "yaxis": {
           "automargin": true,
           "gridcolor": "white",
           "linecolor": "white",
           "ticks": "",
           "title": {
            "standoff": 15
           },
           "zerolinecolor": "white",
           "zerolinewidth": 2
          }
         }
        },
        "title": {
         "text": "Correlation Matrix of Features"
        }
       }
      }
     },
     "metadata": {},
     "output_type": "display_data"
    }
   ],
   "source": [
    "# correlation matrix for features selection\n",
    "## select the numeric columns\n",
    "from plotly.graph_objs import Data\n",
    "\n",
    "\n",
    "df_numeric = df.select_dtypes(include=['float64', 'int64'])\n",
    "## calculate the correlation matrix\n",
    "correlation_matrix = df_numeric.corr()\n",
    "# Create annotation text for each cell in the heatmap\n",
    "annotations = []\n",
    "for i, row in enumerate(correlation_matrix.values):\n",
    "    for j, value in enumerate(row):\n",
    "        annotations.append(\n",
    "            dict(\n",
    "                x=correlation_matrix.columns[j],\n",
    "                y=correlation_matrix.columns[i],\n",
    "                text=f\"{value:.2f}\",\n",
    "                showarrow=False,\n",
    "                font=dict(color=\"black\" if abs(value) < 0.5 else \"white\")\n",
    "            )\n",
    "        )\n",
    "## generate the layout for the heatmap\n",
    "fig = go.Figure(data=go.Heatmap(\n",
    "    z=correlation_matrix.values,\n",
    "    x=correlation_matrix.columns,\n",
    "    y=correlation_matrix.columns,\n",
    "    colorscale='RdBu'\n",
    "))\n",
    "## add the values for each cell in the heatmap\n",
    "fig.update_layout(annotations=annotations)\n",
    "## add the title for the heatmap\n",
    "fig.update_layout(title='Correlation Matrix of Features')\n",
    "## show the heatmap \n",
    "fig.show()\n",
    "\n",
    "## Save as HTML file\n",
    "fig.write_html('plots/Correlation_Matrix_of_Features.html')\n"
   ]
  },
  {
   "cell_type": "markdown",
   "id": "209d2aaf",
   "metadata": {},
   "source": [
    "## Implement the Dynamic Pricing "
   ]
  },
  {
   "cell_type": "code",
   "execution_count": 11,
   "id": "46ead45f",
   "metadata": {},
   "outputs": [],
   "source": [
    "import numpy as np\n",
    "\n",
    "# Calculate demand_multiplier based on percentile for high and low demand\n",
    "high_demand_percentile = 75 ## which is 75th percentile \n",
    "## any value with rider count above this percentile will be considered as high demand\n",
    "\n",
    "low_demand_percentile = 25 ## which is 25th percentile \n",
    "## any value with rider count below this percentile will be considered as low demand\n",
    "\n",
    "df['demand_multiplier'] = np.where(df['Number_of_Riders'] > np.percentile(df['Number_of_Riders'], high_demand_percentile),\n",
    "                                     df['Number_of_Riders'] / np.percentile(df['Number_of_Riders'], high_demand_percentile),\n",
    "                                     df['Number_of_Riders'] / np.percentile(df['Number_of_Riders'], low_demand_percentile))\n",
    "explan1 = \"\"\"\n",
    "Code Explanation:\n",
    "np.where(condition, value_if_true, value_if_false) is like an if else statement for arrays:\n",
    "   - condition: compare each row of number of riders with the 75th percentile threshold\n",
    "   - value_if_true: if the condition is true, then the value of demand_multiplier is the number of riders divided by the 75th percentile\n",
    "   - value_if_false: if the condition is false, then the value of demand_multiplier is the number of riders divided by the 25th percentile\n",
    "\"\"\"\n",
    "\n",
    "# Calculate supply_multiplier based on percentile for high and low supply\n",
    "high_supply_percentile = 75\n",
    "low_supply_percentile = 25\n",
    "\n",
    "df['supply_multiplier'] = np.where(df['Number_of_Drivers'] > np.percentile(df['Number_of_Drivers'], low_supply_percentile),\n",
    "                                     np.percentile(df['Number_of_Drivers'], high_supply_percentile) / df['Number_of_Drivers'],\n",
    "                                     np.percentile(df['Number_of_Drivers'], low_supply_percentile) / df['Number_of_Drivers'])\n",
    "explan2 =\"\"\"The idea is same with demand_multiplier\"\"\"\n",
    "\n",
    "# Define price adjustment factors for high and low demand/supply\n",
    "demand_threshold_high = 1.2  # Higher demand threshold\n",
    "demand_threshold_low = 0.8  # Lower demand threshold\n",
    "supply_threshold_high = 0.8  # Higher supply threshold\n",
    "supply_threshold_low = 1.2  # Lower supply threshold\n",
    "\n",
    "# Calculate adjusted_ride_cost for dynamic pricing\n",
    "df['adjusted_ride_cost'] = df['Historical_Cost_of_Ride'] * (\n",
    "    np.maximum(df['demand_multiplier'], demand_threshold_low) *\n",
    "    np.maximum(df['supply_multiplier'], supply_threshold_high)\n",
    ")\n",
    "explan3 =\"\"\" Code Explanation:\n",
    "    The idea of this code is to adjust the ride cost based on the demand and supply. So first it will take the higher\n",
    "    value between demand_multiplier and demand_threshold_low (Ensures demand multiplier never goes below 0.8, which is 20% max price),\n",
    "    same idea for supply_multiplier and supply_threshold_high (Ensures supply multiplier never goes below 0.8, which is 20% max price).\n",
    "    Then it will multiply with the historical cost of ride to get the adjusted ride cost.\n",
    "\"\"\"\n",
    "explan4 =\"\"\"\n",
    "    Why we need to do this?\n",
    "    - To ensure the adjusted ride cost is not too high or too low.\n",
    "    - To ensure the ride cost is profitable for the company.\n",
    "\"\"\"\n",
    "\n"
   ]
  },
  {
   "cell_type": "markdown",
   "id": "46039b94",
   "metadata": {},
   "source": [
    "## Result after implemeting Dynamic Pricing Strategy"
   ]
  },
  {
   "cell_type": "code",
   "execution_count": null,
   "id": "7364a985",
   "metadata": {},
   "outputs": [],
   "source": [
    "# Visualize the profit percentage after implementing this dynamic pricing strategy\n",
    "## calculate\n",
    "\n",
    "\n",
    "## visualize"
   ]
  },
  {
   "cell_type": "markdown",
   "id": "1a331baf",
   "metadata": {},
   "source": [
    "## Training a Predictive Model"
   ]
  },
  {
   "cell_type": "code",
   "execution_count": 13,
   "id": "ebcb2c87",
   "metadata": {},
   "outputs": [],
   "source": [
    "# Data Preprocessing"
   ]
  },
  {
   "cell_type": "code",
   "execution_count": 14,
   "id": "b1869ca4",
   "metadata": {},
   "outputs": [],
   "source": [
    "# Model training\n",
    "## split the data into training and testing set\n",
    "\n",
    "## Reshape y to 1D array\n",
    "\n",
    "## Training a random forest regression model"
   ]
  },
  {
   "cell_type": "code",
   "execution_count": null,
   "id": "555f87a3",
   "metadata": {},
   "outputs": [],
   "source": [
    "# Model Tesing and Evaluation"
   ]
  }
 ],
 "metadata": {
  "kernelspec": {
   "display_name": "Python 3",
   "language": "python",
   "name": "python3"
  },
  "language_info": {
   "codemirror_mode": {
    "name": "ipython",
    "version": 3
   },
   "file_extension": ".py",
   "mimetype": "text/x-python",
   "name": "python",
   "nbconvert_exporter": "python",
   "pygments_lexer": "ipython3",
   "version": "3.10.11"
  }
 },
 "nbformat": 4,
 "nbformat_minor": 5
}
